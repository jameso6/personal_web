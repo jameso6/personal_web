{
 "cells": [
  {
   "cell_type": "markdown",
   "metadata": {},
   "source": [
    "### <center> DATA 612: Decision Analytics Capstone\n",
    "### <center> Clutch Time Analytics:\n",
    "### <center> Simulating Late-Game Strategies in Basketball\n",
    "<center> James Oblea\n",
    "\n",
    "<center> University of Calgary\n",
    "\n",
    "<center> Faculty of Business\n",
    "\n",
    "<center> DATA 612: Decision Analytics\n",
    "\n",
    "<center> Instructor: Osman Alp\n",
    "\n",
    "<center> April 9, 2024"
   ]
  },
  {
   "cell_type": "code",
   "execution_count": 1,
   "metadata": {},
   "outputs": [],
   "source": [
    "import numpy as np\n",
    "import simpy as sp\n",
    "import pandas as pd\n",
    "import matplotlib.pyplot as plt\n",
    "from fitter import Fitter\n",
    "from scipy.stats import expon\n",
    "from scipy.stats import gamma"
   ]
  },
  {
   "cell_type": "markdown",
   "metadata": {},
   "source": [
    "Data Prep and Wrangling"
   ]
  },
  {
   "cell_type": "code",
   "execution_count": 2,
   "metadata": {},
   "outputs": [],
   "source": [
    "pbp = pd.read_csv(\"NBA_PBP_2018-19.csv\") # data from https://www.kaggle.com/datasets/schmadam97/nba-playbyplay-data-20182019?select=NBA_PBP_2018-19.csv"
   ]
  },
  {
   "cell_type": "code",
   "execution_count": 3,
   "metadata": {},
   "outputs": [
    {
     "name": "stderr",
     "output_type": "stream",
     "text": [
      "C:\\Users\\j_chr\\AppData\\Local\\Temp\\ipykernel_11136\\3513224298.py:9: SettingWithCopyWarning: \n",
      "A value is trying to be set on a copy of a slice from a DataFrame\n",
      "\n",
      "See the caveats in the documentation: https://pandas.pydata.org/pandas-docs/stable/user_guide/indexing.html#returning-a-view-versus-a-copy\n",
      "  last_two_minutes.drop(last_two_minutes[last_two_minutes.TimeoutTeam.notna() | last_two_minutes.EnterGame.notna() | last_two_minutes.LeaveGame.notna()].index,inplace = True)\n"
     ]
    }
   ],
   "source": [
    "## It could be more efficient and accurate to filter for the last two minutes of a close game (decided by two posessessions or less)\n",
    "## as the pace, shot selection, and overall strategies could be different\n",
    "\n",
    "close_games = pbp[(abs(pbp.AwayScore - pbp.HomeScore) < 7) & (pbp.AwayPlay == \"End of 4th quarter\")] # games decided by two or less posessions\n",
    "\n",
    "last_two_minutes = pbp[(pbp.SecLeft < 6*20) & (pbp.Quarter == 4) & (pbp.URL.isin(close_games.URL))]\n",
    "\n",
    "# Getting rid of unnecessary (to the below study) rows in the pbp such as timeouts and substitutions\n",
    "last_two_minutes.drop(last_two_minutes[last_two_minutes.TimeoutTeam.notna() | last_two_minutes.EnterGame.notna() | last_two_minutes.LeaveGame.notna()].index,inplace = True)"
   ]
  },
  {
   "cell_type": "code",
   "execution_count": 4,
   "metadata": {},
   "outputs": [
    {
     "name": "stderr",
     "output_type": "stream",
     "text": [
      "C:\\Users\\j_chr\\AppData\\Local\\Temp\\ipykernel_11136\\3454766044.py:40: SettingWithCopyWarning: \n",
      "A value is trying to be set on a copy of a slice from a DataFrame.\n",
      "Try using .loc[row_indexer,col_indexer] = value instead\n",
      "\n",
      "See the caveats in the documentation: https://pandas.pydata.org/pandas-docs/stable/user_guide/indexing.html#returning-a-view-versus-a-copy\n",
      "  last_two_minutes['possession_to'] = possession_to\n"
     ]
    }
   ],
   "source": [
    "possession_to = pd.Series(len(last_two_minutes))\n",
    "\n",
    "# To measure the time between the start of possession and an event, we have to define when a team gains possession\n",
    "for row in last_two_minutes.index.values:\n",
    "    \n",
    "    # If the Team gets a rebound (offensive or defensive) they gain posession\n",
    "    if last_two_minutes.HomePlay.notna().loc[row] & last_two_minutes.Rebounder.notna().loc[row]:\n",
    "        possession_to[row] = last_two_minutes.HomeTeam[row]\n",
    "\n",
    "    elif last_two_minutes.AwayPlay.notna().loc[row] & last_two_minutes.Rebounder.notna().loc[row]:\n",
    "        possession_to[row] = last_two_minutes.AwayTeam[row]\n",
    "\n",
    "    # If the opposite Team commits a turnover, the Team gains posession\n",
    "    if last_two_minutes.HomePlay.notna().loc[row] & last_two_minutes.TurnoverPlayer.notna().loc[row]:\n",
    "        possession_to[row] = last_two_minutes.AwayTeam[row]\n",
    "\n",
    "    elif last_two_minutes.AwayPlay.notna().loc[row] & last_two_minutes.TurnoverPlayer.notna().loc[row]:\n",
    "        possession_to[row] = last_two_minutes.HomeTeam[row]\n",
    "\n",
    "    # If the opposite Team makes a field goal (any shot except free throws), the Team gains possession\n",
    "    if last_two_minutes.HomePlay.notna().loc[row] & (last_two_minutes.ShotOutcome.loc[row] == \"make\"):\n",
    "        possession_to[row] = last_two_minutes.AwayTeam[row]\n",
    "\n",
    "    elif last_two_minutes.AwayPlay.notna().loc[row] & (last_two_minutes.ShotOutcome.loc[row] == \"make\"):\n",
    "        possession_to[row] = last_two_minutes.HomeTeam[row]\n",
    "\n",
    "        # If the opposite Team makes a free throw, the Team gains possession\n",
    "    if last_two_minutes.HomePlay.notna().loc[row] & (last_two_minutes.FreeThrowOutcome.loc[row] == \"make\") & (last_two_minutes.FreeThrowNum.loc[row] in [\"2 of 2\" , \"3 of 3\"]):\n",
    "        possession_to[row] = last_two_minutes.AwayTeam[row]\n",
    "\n",
    "    elif last_two_minutes.AwayPlay.notna().loc[row] & (last_two_minutes.FreeThrowOutcome.loc[row] == \"make\") & (last_two_minutes.FreeThrowNum.loc[row] in [\"2 of 2\" , \"3 of 3\"]):\n",
    "        possession_to[row] = last_two_minutes.HomeTeam[row]\n",
    "\n",
    "    # If the Team wins the jump-ball they gain posession\n",
    "    if last_two_minutes.HomePlay.notna().loc[row] & last_two_minutes.JumpballPoss.notna().loc[row]:\n",
    "        possession_to[row] = last_two_minutes.HomeTeam[row]\n",
    "\n",
    "    elif last_two_minutes.AwayPlay.notna().loc[row] & last_two_minutes.JumpballPoss.notna().loc[row]:\n",
    "        possession_to[row] = last_two_minutes.AwayTeam[row]\n",
    "\n",
    "last_two_minutes['possession_to'] = possession_to"
   ]
  },
  {
   "cell_type": "code",
   "execution_count": 5,
   "metadata": {},
   "outputs": [],
   "source": [
    "shots = pd.Series()\n",
    "fouls = pd.Series()\n",
    "turnovers = pd.Series()\n",
    "\n",
    "possession_start_time = 0\n",
    "shot_time = 0\n",
    "foul_time = 0\n",
    "turnover_time = 0\n",
    "\n",
    "# The for-loop below measures the time between events\n",
    "for row in last_two_minutes.index.values:\n",
    "\n",
    "\n",
    "    if last_two_minutes.Shooter.notna()[row]:\n",
    "        shot_time = last_two_minutes.SecLeft[row]\n",
    "        inter_arrival_shot = possession_start_time - shot_time\n",
    "        shots[row] = inter_arrival_shot\n",
    "        possession_start_time = 0\n",
    "\n",
    "    if last_two_minutes.FoulType.notna()[row]:\n",
    "        foul_time = last_two_minutes.SecLeft[row]\n",
    "        inter_arrival_foul = possession_start_time - foul_time\n",
    "        fouls[row] = inter_arrival_foul\n",
    "        possession_start_time = 0\n",
    "\n",
    "    if last_two_minutes.TurnoverPlayer.notna()[row]:\n",
    "        turnover_time = last_two_minutes.SecLeft[row]\n",
    "        inter_arrival_turnover = possession_start_time - turnover_time\n",
    "        turnovers[row] = inter_arrival_turnover\n",
    "        possession_start_time = 0\n",
    "\n",
    "    if last_two_minutes.possession_to.notna()[row]:\n",
    "        possession_start_time = last_two_minutes.SecLeft[row]\n",
    "\n",
    "# pbp data has data for consecutive games - difference in game time will be negative between these instances\n",
    "shots = shots[shots >= 0]\n",
    "fouls = fouls[fouls >= 0]\n",
    "turnovers = turnovers[turnovers >= 0]"
   ]
  },
  {
   "cell_type": "markdown",
   "metadata": {},
   "source": [
    "Fitting distributions\n",
    "\n",
    "Traditionally, exponential and gamma distributions are used to measure the difference in time between events"
   ]
  },
  {
   "cell_type": "code",
   "execution_count": 6,
   "metadata": {},
   "outputs": [
    {
     "data": {
      "text/plain": [
       "Text(0.5, 1.0, 'Time elapsed until shot attempt')"
      ]
     },
     "execution_count": 6,
     "metadata": {},
     "output_type": "execute_result"
    },
    {
     "data": {
      "image/png": "[encoded data removed]",
      "text/plain": [
       "<Figure size 640x480 with 1 Axes>"
      ]
     },
     "metadata": {},
     "output_type": "display_data"
    }
   ],
   "source": [
    "plt.hist(shots, density = True)\n",
    "\n",
    "x = np.linspace(expon.ppf(0.01, loc = 0, scale = 9.92),\n",
    "                expon.ppf(0.99, loc = 0, scale = 9.92), 100)\n",
    "pdf = expon.pdf(x, loc = 0, scale = 9.5)\n",
    "\n",
    "x_2 = np.linspace(gamma.ppf(0.01, a = 1.64, loc = 0, scale = 6.42),\n",
    "                gamma.ppf(0.99, a = 1.64, loc = 0, scale = 6.42), 100)\n",
    "pdf_2 = gamma.pdf(x, a = 1.64, loc = 0, scale = 6.42)\n",
    "plt.plot(x,pdf, '--', label = \"Exponential\")\n",
    "plt.plot(x_2,pdf_2, label = \"Gamma\")\n",
    "plt.legend()\n",
    "plt.title('Time elapsed until shot attempt')"
   ]
  },
  {
   "cell_type": "code",
   "execution_count": 7,
   "metadata": {},
   "outputs": [
    {
     "data": {
      "text/plain": [
       "Text(0.5, 1.0, 'Time elapsed until foul')"
      ]
     },
     "execution_count": 7,
     "metadata": {},
     "output_type": "execute_result"
    },
    {
     "data": {
      "image/png": "[encoded data removed]",
      "text/plain": [
       "<Figure size 640x480 with 1 Axes>"
      ]
     },
     "metadata": {},
     "output_type": "display_data"
    }
   ],
   "source": [
    "plt.hist(fouls, density = True)\n",
    "x = np.linspace(expon.ppf(0.01, loc = 0, scale = 4.68),\n",
    "                expon.ppf(0.99, loc = 0, scale = 4.68), 100)\n",
    "pdf = expon.pdf(x, loc = 0, scale = 4.68)\n",
    "plt.plot(x,pdf, '--', label = \"Exponential\")\n",
    "plt.legend()\n",
    "plt.title('Time elapsed until foul')"
   ]
  },
  {
   "cell_type": "code",
   "execution_count": 8,
   "metadata": {},
   "outputs": [
    {
     "data": {
      "text/plain": [
       "Text(0.5, 1.0, 'Time elapsed until turnover')"
      ]
     },
     "execution_count": 8,
     "metadata": {},
     "output_type": "execute_result"
    },
    {
     "data": {
      "image/png": "[encoded data removed]",
      "text/plain": [
       "<Figure size 640x480 with 1 Axes>"
      ]
     },
     "metadata": {},
     "output_type": "display_data"
    }
   ],
   "source": [
    "plt.hist(turnovers, density = True)\n",
    "x = np.linspace(expon.ppf(0.01, loc = 0, scale = 8.6),\n",
    "                expon.ppf(0.99, loc = 0, scale = 8.6), 100)\n",
    "pdf = expon.pdf(x, loc = 0, scale = 8.6)\n",
    "plt.plot(x,pdf, '--', label = \"Exponential\")\n",
    "plt.legend()\n",
    "plt.title('Time elapsed until turnover')"
   ]
  },
  {
   "cell_type": "code",
   "execution_count": 9,
   "metadata": {},
   "outputs": [
    {
     "name": "stderr",
     "output_type": "stream",
     "text": [
      "\u001b[32m2024-04-08 15:31:40.521\u001b[0m | \u001b[1mINFO    \u001b[0m | \u001b[36mfitter.fitter\u001b[0m:\u001b[36m_fit_single_distribution\u001b[0m:\u001b[36m337\u001b[0m - \u001b[1mFitted expon distribution with error=0.444283)\u001b[0m\n",
      "\u001b[32m2024-04-08 15:31:40.942\u001b[0m | \u001b[1mINFO    \u001b[0m | \u001b[36mfitter.fitter\u001b[0m:\u001b[36m_fit_single_distribution\u001b[0m:\u001b[36m337\u001b[0m - \u001b[1mFitted weibull_min distribution with error=0.445514)\u001b[0m\n",
      "\u001b[32m2024-04-08 15:31:41.062\u001b[0m | \u001b[1mINFO    \u001b[0m | \u001b[36mfitter.fitter\u001b[0m:\u001b[36m_fit_single_distribution\u001b[0m:\u001b[36m337\u001b[0m - \u001b[1mFitted gamma distribution with error=0.446416)\u001b[0m\n"
     ]
    },
    {
     "data": {
      "text/html": [
       "<div>\n",
       "<style scoped>\n",
       "    .dataframe tbody tr th:only-of-type {\n",
       "        vertical-align: middle;\n",
       "    }\n",
       "\n",
       "    .dataframe tbody tr th {\n",
       "        vertical-align: top;\n",
       "    }\n",
       "\n",
       "    .dataframe thead th {\n",
       "        text-align: right;\n",
       "    }\n",
       "</style>\n",
       "<table border=\"1\" class=\"dataframe\">\n",
       "  <thead>\n",
       "    <tr style=\"text-align: right;\">\n",
       "      <th></th>\n",
       "      <th>sumsquare_error</th>\n",
       "      <th>aic</th>\n",
       "      <th>bic</th>\n",
       "      <th>kl_div</th>\n",
       "      <th>ks_statistic</th>\n",
       "      <th>ks_pvalue</th>\n",
       "    </tr>\n",
       "  </thead>\n",
       "  <tbody>\n",
       "    <tr>\n",
       "      <th>expon</th>\n",
       "      <td>0.444283</td>\n",
       "      <td>735.071945</td>\n",
       "      <td>747.206243</td>\n",
       "      <td>inf</td>\n",
       "      <td>0.116364</td>\n",
       "      <td>4.584190e-38</td>\n",
       "    </tr>\n",
       "    <tr>\n",
       "      <th>weibull_min</th>\n",
       "      <td>0.445514</td>\n",
       "      <td>720.370312</td>\n",
       "      <td>738.571759</td>\n",
       "      <td>inf</td>\n",
       "      <td>0.078825</td>\n",
       "      <td>1.123229e-17</td>\n",
       "    </tr>\n",
       "    <tr>\n",
       "      <th>gamma</th>\n",
       "      <td>0.446416</td>\n",
       "      <td>726.249821</td>\n",
       "      <td>744.451269</td>\n",
       "      <td>inf</td>\n",
       "      <td>0.086946</td>\n",
       "      <td>2.035836e-21</td>\n",
       "    </tr>\n",
       "  </tbody>\n",
       "</table>\n",
       "</div>"
      ],
      "text/plain": [
       "             sumsquare_error         aic         bic  kl_div  ks_statistic  \\\n",
       "expon               0.444283  735.071945  747.206243     inf      0.116364   \n",
       "weibull_min         0.445514  720.370312  738.571759     inf      0.078825   \n",
       "gamma               0.446416  726.249821  744.451269     inf      0.086946   \n",
       "\n",
       "                ks_pvalue  \n",
       "expon        4.584190e-38  \n",
       "weibull_min  1.123229e-17  \n",
       "gamma        2.035836e-21  "
      ]
     },
     "execution_count": 9,
     "metadata": {},
     "output_type": "execute_result"
    }
   ],
   "source": [
    "# np.random.seed(612)\n",
    "# indices = np.random.randint(0,len(shots),size = 30)\n",
    "\n",
    "# Dist_shots = Fitter(shots.iloc[indices], distributions = ['expon','weibull_min','gamma'])\n",
    "Dist_shots = Fitter(shots, distributions = ['expon','weibull_min','gamma'])\n",
    "Dist_shots.fit()\n",
    "Dist_shots.summary(plot = False)\n",
    "# Dist_shots.summary()"
   ]
  },
  {
   "cell_type": "code",
   "execution_count": 10,
   "metadata": {},
   "outputs": [
    {
     "name": "stderr",
     "output_type": "stream",
     "text": [
      "\u001b[32m2024-04-08 15:31:41.158\u001b[0m | \u001b[1mINFO    \u001b[0m | \u001b[36mfitter.fitter\u001b[0m:\u001b[36m_fit_single_distribution\u001b[0m:\u001b[36m337\u001b[0m - \u001b[1mFitted expon distribution with error=1.990238)\u001b[0m\n",
      "\u001b[32m2024-04-08 15:31:41.919\u001b[0m | \u001b[1mINFO    \u001b[0m | \u001b[36mfitter.fitter\u001b[0m:\u001b[36m_fit_single_distribution\u001b[0m:\u001b[36m337\u001b[0m - \u001b[1mFitted gamma distribution with error=1.400775)\u001b[0m\n",
      "\u001b[32m2024-04-08 15:31:42.048\u001b[0m | \u001b[1mINFO    \u001b[0m | \u001b[36mfitter.fitter\u001b[0m:\u001b[36m_fit_single_distribution\u001b[0m:\u001b[36m337\u001b[0m - \u001b[1mFitted weibull_min distribution with error=1.182878)\u001b[0m\n"
     ]
    },
    {
     "data": {
      "text/html": [
       "<div>\n",
       "<style scoped>\n",
       "    .dataframe tbody tr th:only-of-type {\n",
       "        vertical-align: middle;\n",
       "    }\n",
       "\n",
       "    .dataframe tbody tr th {\n",
       "        vertical-align: top;\n",
       "    }\n",
       "\n",
       "    .dataframe thead th {\n",
       "        text-align: right;\n",
       "    }\n",
       "</style>\n",
       "<table border=\"1\" class=\"dataframe\">\n",
       "  <thead>\n",
       "    <tr style=\"text-align: right;\">\n",
       "      <th></th>\n",
       "      <th>sumsquare_error</th>\n",
       "      <th>aic</th>\n",
       "      <th>bic</th>\n",
       "      <th>kl_div</th>\n",
       "      <th>ks_statistic</th>\n",
       "      <th>ks_pvalue</th>\n",
       "    </tr>\n",
       "  </thead>\n",
       "  <tbody>\n",
       "    <tr>\n",
       "      <th>weibull_min</th>\n",
       "      <td>1.182878</td>\n",
       "      <td>919.964957</td>\n",
       "      <td>935.445165</td>\n",
       "      <td>inf</td>\n",
       "      <td>0.288267</td>\n",
       "      <td>3.491073e-95</td>\n",
       "    </tr>\n",
       "    <tr>\n",
       "      <th>gamma</th>\n",
       "      <td>1.400775</td>\n",
       "      <td>948.874398</td>\n",
       "      <td>964.354605</td>\n",
       "      <td>inf</td>\n",
       "      <td>0.288267</td>\n",
       "      <td>3.491019e-95</td>\n",
       "    </tr>\n",
       "    <tr>\n",
       "      <th>expon</th>\n",
       "      <td>1.990238</td>\n",
       "      <td>782.707433</td>\n",
       "      <td>793.027571</td>\n",
       "      <td>inf</td>\n",
       "      <td>0.288267</td>\n",
       "      <td>3.491019e-95</td>\n",
       "    </tr>\n",
       "  </tbody>\n",
       "</table>\n",
       "</div>"
      ],
      "text/plain": [
       "             sumsquare_error         aic         bic  kl_div  ks_statistic  \\\n",
       "weibull_min         1.182878  919.964957  935.445165     inf      0.288267   \n",
       "gamma               1.400775  948.874398  964.354605     inf      0.288267   \n",
       "expon               1.990238  782.707433  793.027571     inf      0.288267   \n",
       "\n",
       "                ks_pvalue  \n",
       "weibull_min  3.491073e-95  \n",
       "gamma        3.491019e-95  \n",
       "expon        3.491019e-95  "
      ]
     },
     "execution_count": 10,
     "metadata": {},
     "output_type": "execute_result"
    }
   ],
   "source": [
    "# np.random.seed(612)\n",
    "# indices = np.random.randint(0,len(fouls), size = 30)\n",
    "\n",
    "# Dist_fouls = Fitter(fouls.iloc[indices], distributions = ['expon', 'weibull_min', 'gamma'])\n",
    "Dist_fouls = Fitter(fouls, distributions = ['expon', 'weibull_min', 'gamma'])\n",
    "Dist_fouls.fit()\n",
    "Dist_fouls.summary(plot = False)\n",
    "# Dist_fouls.summary()"
   ]
  },
  {
   "cell_type": "code",
   "execution_count": 11,
   "metadata": {},
   "outputs": [
    {
     "name": "stderr",
     "output_type": "stream",
     "text": [
      "\u001b[32m2024-04-08 15:31:42.164\u001b[0m | \u001b[1mINFO    \u001b[0m | \u001b[36mfitter.fitter\u001b[0m:\u001b[36m_fit_single_distribution\u001b[0m:\u001b[36m337\u001b[0m - \u001b[1mFitted expon distribution with error=0.542959)\u001b[0m\n",
      "\u001b[32m2024-04-08 15:31:43.000\u001b[0m | \u001b[1mINFO    \u001b[0m | \u001b[36mfitter.fitter\u001b[0m:\u001b[36m_fit_single_distribution\u001b[0m:\u001b[36m337\u001b[0m - \u001b[1mFitted weibull_min distribution with error=0.481076)\u001b[0m\n",
      "\u001b[32m2024-04-08 15:31:43.080\u001b[0m | \u001b[1mINFO    \u001b[0m | \u001b[36mfitter.fitter\u001b[0m:\u001b[36m_fit_single_distribution\u001b[0m:\u001b[36m337\u001b[0m - \u001b[1mFitted gamma distribution with error=0.492627)\u001b[0m\n"
     ]
    },
    {
     "data": {
      "text/html": [
       "<div>\n",
       "<style scoped>\n",
       "    .dataframe tbody tr th:only-of-type {\n",
       "        vertical-align: middle;\n",
       "    }\n",
       "\n",
       "    .dataframe tbody tr th {\n",
       "        vertical-align: top;\n",
       "    }\n",
       "\n",
       "    .dataframe thead th {\n",
       "        text-align: right;\n",
       "    }\n",
       "</style>\n",
       "<table border=\"1\" class=\"dataframe\">\n",
       "  <thead>\n",
       "    <tr style=\"text-align: right;\">\n",
       "      <th></th>\n",
       "      <th>sumsquare_error</th>\n",
       "      <th>aic</th>\n",
       "      <th>bic</th>\n",
       "      <th>kl_div</th>\n",
       "      <th>ks_statistic</th>\n",
       "      <th>ks_pvalue</th>\n",
       "    </tr>\n",
       "  </thead>\n",
       "  <tbody>\n",
       "    <tr>\n",
       "      <th>weibull_min</th>\n",
       "      <td>0.481076</td>\n",
       "      <td>772.612554</td>\n",
       "      <td>784.933622</td>\n",
       "      <td>inf</td>\n",
       "      <td>0.131403</td>\n",
       "      <td>3.206937e-07</td>\n",
       "    </tr>\n",
       "    <tr>\n",
       "      <th>gamma</th>\n",
       "      <td>0.492627</td>\n",
       "      <td>824.616662</td>\n",
       "      <td>836.937731</td>\n",
       "      <td>inf</td>\n",
       "      <td>0.261020</td>\n",
       "      <td>1.774035e-27</td>\n",
       "    </tr>\n",
       "    <tr>\n",
       "      <th>expon</th>\n",
       "      <td>0.542959</td>\n",
       "      <td>745.053446</td>\n",
       "      <td>753.267491</td>\n",
       "      <td>inf</td>\n",
       "      <td>0.131403</td>\n",
       "      <td>3.206937e-07</td>\n",
       "    </tr>\n",
       "  </tbody>\n",
       "</table>\n",
       "</div>"
      ],
      "text/plain": [
       "             sumsquare_error         aic         bic  kl_div  ks_statistic  \\\n",
       "weibull_min         0.481076  772.612554  784.933622     inf      0.131403   \n",
       "gamma               0.492627  824.616662  836.937731     inf      0.261020   \n",
       "expon               0.542959  745.053446  753.267491     inf      0.131403   \n",
       "\n",
       "                ks_pvalue  \n",
       "weibull_min  3.206937e-07  \n",
       "gamma        1.774035e-27  \n",
       "expon        3.206937e-07  "
      ]
     },
     "execution_count": 11,
     "metadata": {},
     "output_type": "execute_result"
    }
   ],
   "source": [
    "# np.random.seed(612)\n",
    "# indices = np.random.randint(0,len(turnovers), size = 40)\n",
    "\n",
    "# Dist_turnovers = Fitter(turnovers.iloc[indices,], distributions = ['expon', 'weibull_min', 'gamma'])\n",
    "Dist_turnovers = Fitter(turnovers, distributions = ['expon', 'weibull_min', 'gamma'])\n",
    "Dist_turnovers.fit()\n",
    "Dist_turnovers.summary(plot = False)\n",
    "# Dist_turnovers.summary()"
   ]
  },
  {
   "cell_type": "markdown",
   "metadata": {},
   "source": [
    "The distributions were chosen by performing Kolmogorov-Smirnov tests. The p-value tends to be less than 0.05 if using large sample sizes and so no distribution seem to be a good fit if we were to do hypothesis testing (we want to fail to reject to say that the data fits a specific distribution). Due to this, we can look at the SSE, AIC, and BIC values.\n",
    "\n",
    "\n",
    "For the elapsed time between start of possession and a shot attempt, a gamma distribution is selected.\n",
    "\n",
    "For the elapsed time between start of possession and foul and turnover, an exponential distribution is selected."
   ]
  },
  {
   "cell_type": "code",
   "execution_count": 12,
   "metadata": {},
   "outputs": [],
   "source": [
    "# loc_shots, scale_shots = Dist_shots.fitted_param['expon']\n",
    "shape_shots, loc_shots, scale_shots = Dist_shots.fitted_param['gamma']\n",
    "loc_shots = 0\n",
    "# print(Dist_shots.fitted_param['gamma'])\n",
    "# print(Dist_shots.fitted_param['expon'])\n"
   ]
  },
  {
   "cell_type": "code",
   "execution_count": 13,
   "metadata": {},
   "outputs": [],
   "source": [
    "loc_fouls, scale_fouls = Dist_fouls.fitted_param['expon']\n",
    "# print(Dist_fouls.fitted_param['expon'])"
   ]
  },
  {
   "cell_type": "code",
   "execution_count": 14,
   "metadata": {},
   "outputs": [],
   "source": [
    "loc_turnovers, scale_turnovers = Dist_turnovers.fitted_param['expon']\n",
    "# print(Dist_turnovers.fitted_param['expon'])"
   ]
  },
  {
   "cell_type": "markdown",
   "metadata": {},
   "source": [
    "## Monte Carlo Discrete Event Simulation\n",
    "### Situation:\n",
    "\n",
    "Your team is down three points with two minutes left in the fourth quarter. Do you:\n",
    "\n",
    "1. Get quality two pointers or attempt to tie the game with three pointers?\n",
    "2. Foul the opposing team (and when?)\n",
    "3. If fouling deliberately, should you foul the worst free throw shooter even if it takes longer for him to get the ball?\n",
    "    * you can only foul the player who has the ball\n",
    "    \n",
    "Be mindful of constraints, rules, and assumptions:\n",
    "\n",
    "* shot clock violation (any time-related variable must be below 24s)\n",
    "* shot clock refresh to 24s instead of current 14s\n",
    "* no special rules or scenarios (e.g. take fouls, technical fouls, jump balls, challenges, etc.)\n",
    "* substitutions are negligible\n",
    "* both teams are in the bonus -> fouls lead to shots\n",
    "* no and-1s (especially four-point plays)\n",
    "* plays are independent (memoryless)\n",
    "* turnovers are bad pass or any kind of violation (e.g. travel, double-dribble, out of bounds)\n",
    "* timeouts do not change the state of the game (but it does irl by advancing ball or getting better shots)\n",
    "* rebounds are 50/50"
   ]
  },
  {
   "cell_type": "code",
   "execution_count": 15,
   "metadata": {},
   "outputs": [],
   "source": [
    "class Team:\n",
    "    def __init__(self, name, score, freethrow_percentage, twopoint_percentage, threepoint_percentage, tov_percentage):\n",
    "        self.name = name\n",
    "        self.score = score\n",
    "        self.freethrow_percentage = freethrow_percentage\n",
    "        self.twopoint_percentage = twopoint_percentage\n",
    "        self.threepoint_percentage = threepoint_percentage\n",
    "        self.tov_percentage = tov_percentage\n",
    "        self.fouls = 0\n",
    "\n",
    "    def freethrow_attempt(self):\n",
    "        return np.random.uniform() < self.freethrow_percentage\n",
    "    \n",
    "    def twopoint_attempt(self):\n",
    "        # print(np.random.uniform())\n",
    "        return np.random.uniform() < self.twopoint_percentage\n",
    "    \n",
    "    def threepoint_attempt(self):\n",
    "        return np.random.uniform() < self.threepoint_percentage\n",
    "    \n",
    "    def turnover(self):\n",
    "        return np.random.uniform() < self.tov_percentage\n",
    "    \n",
    "\n",
    "class Game:\n",
    "    def __init__(self, team1, team2, game_clock):\n",
    "        self.team1 = team1\n",
    "        self.team2 = team2\n",
    "        self.game_clock = game_clock\n",
    "    \n",
    "    def start_game(self):\n",
    "\n",
    "        if np.random.uniform() < 0.5: # randomly assign a team to start with a ball\n",
    "            self.offense = self.team1\n",
    "            self.defense = self.team2\n",
    "\n",
    "        else:\n",
    "            self.defense = self.team1\n",
    "            self.offense = self.team2\n",
    "    def rebound(self):\n",
    "        if np.random.uniform() < 0.5: # rebounds are 50/50 for simplicity\n",
    "            self.offense, self.defense = self.defense, self.offense\n",
    "        \n",
    "    def changeposession(self):\n",
    "        self.offense, self.defense = self.defense, self.offense\n",
    "\n",
    "    def show_time(self):\n",
    "        return np.round(self.game_clock, 2)\n",
    "    \n",
    "    def stop_game(self):\n",
    "        self.game_clock = 0\n",
    "\n",
    "# the function below is used for testing purposes\n",
    "# see the function simulate_game_2 for the function used for the simulation\n",
    "def simulate_game_test(team1, team2, game_clock = 2*60, extra_seconds_foul = 0, seed = None):\n",
    "    np.random.seed(seed)\n",
    "    # expon_shot = expon.rvs(loc = loc_shots, scale = scale_shots, size = 1000)\n",
    "    expon_shot = gamma.rvs(a = shape_shots, loc = loc_shots, scale = scale_shots, size = 1000)\n",
    "    expon_foul = expon.rvs(loc = loc_fouls, scale = scale_fouls, size = 1000)\n",
    "    expon_hack = expon.rvs(loc = loc_fouls, scale = 0, size = 1000) + extra_seconds_foul # if playing hack-strat, foul immediately\n",
    "    expon_turnover = expon.rvs(loc = loc_turnovers, scale = scale_turnovers, size = 1000)\n",
    "    unif = np.random.uniform(size = 1000)\n",
    "    i = 0\n",
    "\n",
    "    twopta = 0.5\n",
    "    threepta = 0.4\n",
    "    fta = 0.1\n",
    "\n",
    "    game = Game(team1, team2, game_clock)\n",
    "    game.start_game()\n",
    "    \n",
    "    print(game.show_time())\n",
    "    print(game.offense.name, \"starts with the ball\")\n",
    "\n",
    "    while game.game_clock > 0:\n",
    "        \n",
    "        if (expon_shot[i] > game.game_clock) | (expon_foul[i] > game.game_clock) | (expon_turnover[i] > game.game_clock) :\n",
    "            game.stop_game()\n",
    "            print(\"Time has ran out\")\n",
    "\n",
    "        else:\n",
    "\n",
    "            if game.offense.turnover() or expon_shot[i] >= 24: # accounting for shot-clock violation\n",
    "                if expon_shot[i] >= 24:\n",
    "                    game.game_clock -= 24\n",
    "                else:\n",
    "                    game.game_clock -= expon_turnover[i]\n",
    "                game.changeposession()\n",
    "                print(game.show_time(), game.defense.name, \"turns it over\")\n",
    "                \n",
    "            else:\n",
    "\n",
    "                if unif[i] <= twopta: # 50% of the time they choose to shoot two's\n",
    "\n",
    "                    if game.offense.twopoint_attempt():\n",
    "                        game.offense.score += 2\n",
    "                        game.game_clock -= expon_shot[i]\n",
    "\n",
    "                        print(game.show_time(), game.offense.name, \"scores 2\")\n",
    "                        game.changeposession()\n",
    "\n",
    "                    else:\n",
    "                        game.game_clock -= expon_shot[i]\n",
    "                        print(game.show_time(), game.offense.name, \"misses from 2\")\n",
    "                        game.rebound()\n",
    "                        print(game.offense.name, \"rebounds the ball\")\n",
    "\n",
    "                elif unif[i] <= (twopta + threepta) and unif[i] > twopta: # 40% of the time they shoot three\n",
    "\n",
    "                    if game.offense.threepoint_attempt():\n",
    "                        game.offense.score += 3\n",
    "                        game.game_clock -= expon_shot[i]\n",
    "\n",
    "                        print(game.show_time(), game.offense.name, \"scores 3\")\n",
    "                        game.changeposession()\n",
    "\n",
    "                    else:\n",
    "                        game.game_clock -= expon_shot[i]\n",
    "                        print(game.show_time(), game.offense.name, \"misses from 3\")\n",
    "                        game.rebound()\n",
    "                        print(game.offense.name, \"rebounds the ball\")\n",
    "\n",
    "                else: # 10% of the time they are fouled\n",
    "                    game.game_clock -= expon_foul[i]\n",
    "                    game.defense.fouls += 1\n",
    "\n",
    "                    if game.offense.freethrow_attempt():\n",
    "                        game.offense.score += 1\n",
    "\n",
    "                        print(game.show_time(), game.offense.name, \"scores 1\")\n",
    "\n",
    "                        if game.offense.freethrow_attempt():\n",
    "                            game.offense.score += 1\n",
    "                            print(game.show_time(), game.offense.name, \"scores 1\")\n",
    "                            game.changeposession()\n",
    "                        \n",
    "                        else:\n",
    "                            print(game.show_time(), game.offense.name, \"misses 1\")\n",
    "                            game.rebound()\n",
    "                            print(game.offense.name, \"rebounds the ball\")\n",
    "\n",
    "                    else:\n",
    "                        print(game.show_time(), game.offense.name, \"misses 1\")\n",
    "\n",
    "                        if game.offense.freethrow_attempt():\n",
    "                            game.offense.score += 1\n",
    "                            print(game.show_time(), game.offense.name, \"scores 1\")\n",
    "                            game.changeposession()\n",
    "\n",
    "                        else:\n",
    "                            print(game.show_time(), game.offense.name, \"misses 1\")\n",
    "                            game.rebound()\n",
    "                            print(game.offense.name, \"rebounds the ball\")\n",
    "\n",
    "        i += 1\n",
    "                    \n",
    "\n",
    "    return team1.score, team2.score, team1.fouls, team2.fouls\n"
   ]
  },
  {
   "cell_type": "code",
   "execution_count": 16,
   "metadata": {},
   "outputs": [
    {
     "name": "stdout",
     "output_type": "stream",
     "text": [
      "120\n",
      "Bucks starts with the ball\n",
      "111.72 Bucks scores 2\n",
      "109.3 Raps misses from 3\n",
      "Bucks rebounds the ball\n",
      "102.47 Bucks scores 3\n",
      "82.95 Raps scores 2\n",
      "61.17 Bucks turns it over\n",
      "58.83 Raps scores 1\n",
      "58.83 Raps scores 1\n",
      "55.58 Bucks turns it over\n",
      "49.71 Raps misses from 3\n",
      "Raps rebounds the ball\n",
      "23.37 Raps turns it over\n",
      "Time has ran out\n"
     ]
    },
    {
     "data": {
      "text/plain": [
       "(94, 98, 0, 1)"
      ]
     },
     "execution_count": 16,
     "metadata": {},
     "output_type": "execute_result"
    }
   ],
   "source": [
    "raps = Team(\"Raps\", score = 90, freethrow_percentage=0.804,twopoint_percentage=0.539,threepoint_percentage=0.366,tov_percentage=0.15)\n",
    "bucks = Team(\"Bucks\", score = 93, freethrow_percentage=0.773,twopoint_percentage=0.565,threepoint_percentage=0.353,tov_percentage=0.15)\n",
    "\n",
    "simulate_game_test(raps,bucks, seed = 612) # to test if the function works we can compare these values to the ones below"
   ]
  },
  {
   "cell_type": "code",
   "execution_count": 17,
   "metadata": {},
   "outputs": [],
   "source": [
    "# The function below simulates a game of basketball between team 1 and team 2. It outputs their points and fouls drawn\n",
    "# @ params team1, team2: must be Teams objects\n",
    "# @ param first_start: dictates whether team1 starts first. If False, it's coin-flip\n",
    "# @ param game_clock: time remaining in the game\n",
    "# @ param hack_strat: If true, the losing team will try to immediately foul the opposing team\n",
    "# @ param extra_secound_foul: The number of extra seconds it takes to foul the opponent\n",
    "# @ params twpt, thrpt, and ft: The composition of Two point, three point, and free throw shot attempts (NOT shot probabilities)\n",
    "\n",
    "def simulate_game_2(team1, team2, first_start = False, game_clock = 2*60, hack_strat = True, extra_seconds_foul = 0, twpt = 0.5, thrpt = 0.4, ft = 0.10, seed = None):\n",
    "    np.random.seed(seed)\n",
    "    # expon_shot = expon.rvs(loc = loc_shots, scale = scale_shots, size = 1000)\n",
    "    expon_shot = gamma.rvs(a = shape_shots, loc = loc_shots, scale = scale_shots, size = 1000)\n",
    "    expon_foul = expon.rvs(loc = loc_fouls, scale = scale_fouls, size = 1000)\n",
    "    expon_hack = expon.rvs(loc = loc_fouls, scale = 0, size = 1000) + extra_seconds_foul # if playing hack-strat, foul immediately\n",
    "    expon_turnover = expon.rvs(loc = loc_turnovers, scale = scale_turnovers, size = 1000)\n",
    "    unif = np.random.uniform(size = 1000)\n",
    "    i = 0\n",
    "    \n",
    "    def play_hack_a_shaq():\n",
    "        twopta = 0.01 # there's still a non-zero chance of the opposing team shooting a fieldgoals\n",
    "        threepta = 0.01\n",
    "        fta = 0.98 # almost certainly will foul the opposing team\n",
    "\n",
    "        if (expon_shot[i] > game.game_clock) | (expon_foul[i] > game.game_clock) | (expon_turnover[i] > game.game_clock) :\n",
    "            game.stop_game()\n",
    "            # print(\"Time has ran out\")\n",
    "\n",
    "        else:\n",
    "\n",
    "            if game.offense.turnover() or expon_shot[i] >= 24: # accounting for shot-clock violation\n",
    "                if expon_shot[i] >= 24:\n",
    "                    game.game_clock -= 24\n",
    "                else:\n",
    "                    game.game_clock -= expon_turnover[i]\n",
    "                game.changeposession()\n",
    "                # print(game.show_time(), game.defense.name, \"turns it over\")\n",
    "\n",
    "            else:\n",
    "\n",
    "                if unif[i] <= twopta: # 50% of the time they choose to shoot two's\n",
    "\n",
    "                    if game.offense.twopoint_attempt():\n",
    "                        game.offense.score += 2\n",
    "                        game.game_clock -= expon_shot[i]\n",
    "\n",
    "                        # print(game.show_time(), game.offense.name, \"scores 2\")\n",
    "                        game.changeposession()\n",
    "\n",
    "                    else:\n",
    "                        game.game_clock -= expon_shot[i]\n",
    "                        # print(game.show_time(), game.offense.name, \"misses from 2\")\n",
    "                        game.rebound()\n",
    "                        # print(game.offense.name, \"rebounds the ball\")\n",
    "\n",
    "                elif unif[i] <= (twopta + threepta) and unif[i] > twopta: # 40% of the time they shoot three\n",
    "\n",
    "                    if game.offense.threepoint_attempt():\n",
    "                        game.offense.score += 3\n",
    "                        game.game_clock -= expon_shot[i]\n",
    "\n",
    "                        # print(game.show_time(), game.offense.name, \"scores 3\")\n",
    "                        game.changeposession()\n",
    "\n",
    "                    else:\n",
    "                        game.game_clock -= expon_shot[i]\n",
    "                        # print(game.show_time(), game.offense.name, \"misses from 3\")\n",
    "                        game.rebound()\n",
    "                        # print(game.offense.name, \"rebounds the ball\")\n",
    "\n",
    "                else: # 98% of the time they are fouled\n",
    "                    game.game_clock -= expon_hack[i]\n",
    "                    game.defense.fouls += 1\n",
    "\n",
    "                    if game.offense.freethrow_attempt():\n",
    "                        game.offense.score += 1\n",
    "\n",
    "                        # print(game.show_time(), game.offense.name, \"scores 1\")\n",
    "\n",
    "                        if game.offense.freethrow_attempt():\n",
    "                            game.offense.score += 1\n",
    "                            # print(game.show_time(), game.offense.name, \"scores 1\")\n",
    "                            game.changeposession()\n",
    "                        \n",
    "                        else:\n",
    "                            # print(game.show_time(), game.offense.name, \"misses 1\")\n",
    "                            game.rebound()\n",
    "                            # print(game.offense.name, \"rebounds the ball\")\n",
    "\n",
    "                    else:\n",
    "                        # print(game.show_time(), game.offense.name, \"misses 1\")\n",
    "\n",
    "                        if game.offense.freethrow_attempt():\n",
    "                            game.offense.score += 1\n",
    "                            # print(game.show_time(), game.offense.name, \"scores 1\")\n",
    "                            game.changeposession()\n",
    "\n",
    "                        else:\n",
    "                            # print(game.show_time(), game.offense.name, \"misses 1\")\n",
    "                            game.rebound()\n",
    "                            # print(game.offense.name, \"rebounds the ball\")\n",
    "\n",
    "    def play_regular():\n",
    "        twopta = twpt # roughly 50% of field goal attempts will be 2-pointers per bball reference\n",
    "        threepta = thrpt # roughly 40% are three pointers\n",
    "        fta = ft # and 10% of the time they are fouled\n",
    "\n",
    "        if (expon_shot[i] > game.game_clock) | (expon_foul[i] > game.game_clock) | (expon_turnover[i] > game.game_clock) :\n",
    "            game.stop_game()\n",
    "            # print(\"Time has run out\")\n",
    "\n",
    "        else:\n",
    "\n",
    "            if game.offense.turnover() or expon_shot[i] >= 24: # accounting for shot-clock violation\n",
    "                if expon_shot[i] >= 24:\n",
    "                    game.game_clock -= 24\n",
    "                else:\n",
    "                    game.game_clock -= expon_turnover[i]\n",
    "                game.changeposession()\n",
    "                # print(game.show_time(), game.defense.name, \"turns it over\")\n",
    "\n",
    "            else:\n",
    "\n",
    "                if unif[i] <= twopta: # 50% of the time they choose to shoot two's\n",
    "\n",
    "                    if game.offense.twopoint_attempt():\n",
    "                        game.offense.score += 2\n",
    "                        game.game_clock -= expon_shot[i]\n",
    "\n",
    "                        # print(game.show_time(), game.offense.name, \"scores 2\")\n",
    "                        game.changeposession()\n",
    "\n",
    "                    else:\n",
    "                        game.game_clock -= expon_shot[i]\n",
    "                        # print(game.show_time(), game.offense.name, \"misses from 2\")\n",
    "                        game.rebound()\n",
    "                        # print(game.offense.name, \"rebounds the ball\")\n",
    "\n",
    "                elif unif[i] <= (twopta + threepta) and unif[i] > twopta: # 40% of the time they shoot three\n",
    "\n",
    "                    if game.offense.threepoint_attempt():\n",
    "                        game.offense.score += 3\n",
    "                        game.game_clock -= expon_shot[i]\n",
    "\n",
    "                        # print(game.show_time(), game.offense.name, \"scores 3\")\n",
    "                        game.changeposession()\n",
    "\n",
    "                    else:\n",
    "                        game.game_clock -= expon_shot[i]\n",
    "                        # print(game.show_time(), game.offense.name, \"misses from 3\")\n",
    "                        game.rebound()\n",
    "                        # print(game.offense.name, \"rebounds the ball\")\n",
    "\n",
    "                else: # 10% of the time they are fouled\n",
    "                    game.game_clock -= expon_foul[i] # assume two seconds to foul\n",
    "                    game.defense.fouls += 1\n",
    "\n",
    "                    if game.offense.freethrow_attempt():\n",
    "                        game.offense.score += 1\n",
    "\n",
    "                        # print(game.show_time(), game.offense.name, \"scores 1\")\n",
    "\n",
    "                        if game.offense.freethrow_attempt():\n",
    "                            game.offense.score += 1\n",
    "                            # print(game.show_time(), game.offense.name, \"scores 1\")\n",
    "                            game.changeposession()\n",
    "                        \n",
    "                        else:\n",
    "                            # print(game.show_time(), game.offense.name, \"misses 1\")\n",
    "                            game.rebound()\n",
    "                            # print(game.offense.name, \"rebounds the ball\")\n",
    "\n",
    "                    else:\n",
    "                        # print(game.show_time(), game.offense.name, \"misses 1\")\n",
    "\n",
    "                        if game.offense.freethrow_attempt():\n",
    "                            game.offense.score += 1\n",
    "                            # print(game.show_time(), game.offense.name, \"scores 1\")\n",
    "                            game.changeposession()\n",
    "\n",
    "                        else:\n",
    "                            # print(game.show_time(), game.offense.name, \"misses 1\")\n",
    "                            game.rebound()\n",
    "                            # print(game.offense.name, \"rebounds the ball\")\n",
    "\n",
    "    game = Game(team1, team2, game_clock)\n",
    "    game.start_game()\n",
    "\n",
    "    if first_start == True:\n",
    "        game.offense = team1\n",
    "    \n",
    "    # print(game.show_time())\n",
    "    # print(game.offense.name, \"starts with the ball\")\n",
    "\n",
    "\n",
    "    while game.game_clock > 0:\n",
    "        # print(team1.score, team2.score)\n",
    "\n",
    "        if hack_strat == True:\n",
    "            if game.offense.score < game.defense.score:\n",
    "                losing_team = game.offense\n",
    "\n",
    "            elif game.offense.score > game.defense.score:\n",
    "                losing_team = game.defense\n",
    "\n",
    "            else:\n",
    "                losing_team = None # account for ties\n",
    "\n",
    "            if losing_team == game.defense:\n",
    "                # print(game.defense.name, \"is losing\")\n",
    "                play_hack_a_shaq()\n",
    "\n",
    "            else:\n",
    "                play_regular()\n",
    "\n",
    "        else:\n",
    "            play_regular()\n",
    "\n",
    "        i += 1\n",
    "                    \n",
    "\n",
    "    return team1.score, team2.score, team1.fouls, team2.fouls\n"
   ]
  },
  {
   "cell_type": "code",
   "execution_count": 18,
   "metadata": {},
   "outputs": [
    {
     "data": {
      "text/plain": [
       "(94, 98, 0, 1)"
      ]
     },
     "execution_count": 18,
     "metadata": {},
     "output_type": "execute_result"
    }
   ],
   "source": [
    "raps = Team(\"Raps\", score = 90, freethrow_percentage=0.804,twopoint_percentage=0.539,threepoint_percentage=0.366,tov_percentage=0.15)\n",
    "bucks = Team(\"Bucks\", score = 93, freethrow_percentage=0.773,twopoint_percentage=0.565,threepoint_percentage=0.353,tov_percentage=0.15)\n",
    "\n",
    "simulate_game_2(raps, bucks, hack_strat = False, seed = 612) # test if function works"
   ]
  },
  {
   "cell_type": "code",
   "execution_count": 19,
   "metadata": {},
   "outputs": [],
   "source": [
    "# Initialize seed and parameters for below analyses\n",
    "\n",
    "np.random.seed(612)\n",
    "iterations = 10000\n",
    "seeds = np.random.randint(0,100000,size = iterations)\n",
    "game_time = np.arange(0,4*60,5)"
   ]
  },
  {
   "cell_type": "markdown",
   "metadata": {},
   "source": [
    "Should the team go for two or three?"
   ]
  },
  {
   "cell_type": "code",
   "execution_count": 20,
   "metadata": {},
   "outputs": [
    {
     "name": "stdout",
     "output_type": "stream",
     "text": [
      "1397 17\n"
     ]
    }
   ],
   "source": [
    "# Simulating with higher likely-hood of two-point attempts\n",
    "wins = 0\n",
    "ties = 0\n",
    "\n",
    "raps_total_fouls = 0\n",
    "bucks_total_fouls = 0\n",
    "\n",
    "for i in seeds:\n",
    "    raps = Team(\"Raps\", score = 90, freethrow_percentage=0.804,twopoint_percentage=0.539,threepoint_percentage=0.366,tov_percentage=0.15)\n",
    "    bucks = Team(\"Bucks\", score = 93, freethrow_percentage=0.773,twopoint_percentage=0.565,threepoint_percentage=0.353,tov_percentage=0.15)\n",
    "\n",
    "    raps_score, bucks_score, raps_fouls, bucks_fouls = simulate_game_2(raps, bucks, first_start = True, game_clock = 30, hack_strat = False, twpt = 0.99, thrpt = 0, ft = 0.01, seed = i)\n",
    "\n",
    "    raps_total_fouls += raps_fouls\n",
    "    bucks_total_fouls += bucks_fouls\n",
    "\n",
    "    if raps_score > bucks_score:\n",
    "        wins += 1\n",
    "\n",
    "    if raps_score == bucks_score:\n",
    "        ties += 1\n",
    "\n",
    "print(wins, ties)"
   ]
  },
  {
   "cell_type": "code",
   "execution_count": 21,
   "metadata": {},
   "outputs": [
    {
     "name": "stdout",
     "output_type": "stream",
     "text": [
      "847 3129\n"
     ]
    }
   ],
   "source": [
    "# Simulating with higher likely-hood of three-point attempts\n",
    "wins = 0\n",
    "ties = 0\n",
    "\n",
    "raps_total_fouls = 0\n",
    "bucks_total_fouls = 0\n",
    "\n",
    "for i in seeds:\n",
    "    raps = Team(\"Raps\", score = 90, freethrow_percentage=0.804,twopoint_percentage=0.539,threepoint_percentage=0.366,tov_percentage=0.15)\n",
    "    bucks = Team(\"Bucks\", score = 93, freethrow_percentage=0.773,twopoint_percentage=0.565,threepoint_percentage=0.353,tov_percentage=0.15)\n",
    "\n",
    "    raps_score, bucks_score, raps_fouls, bucks_fouls = simulate_game_2(raps, bucks, first_start = True, game_clock = 30, hack_strat = False, twpt = 0, thrpt = 0.99, ft = 0.01, seed = i)\n",
    "\n",
    "    raps_total_fouls += raps_fouls\n",
    "    bucks_total_fouls += bucks_fouls\n",
    "\n",
    "    if raps_score > bucks_score:\n",
    "        wins += 1\n",
    "\n",
    "    if raps_score == bucks_score:\n",
    "        ties += 1\n",
    "\n",
    "print(wins, ties)"
   ]
  },
  {
   "cell_type": "markdown",
   "metadata": {},
   "source": [
    "Intentional fouling and when?"
   ]
  },
  {
   "cell_type": "code",
   "execution_count": 22,
   "metadata": {},
   "outputs": [],
   "source": [
    "wins_vec = pd.Series(len(game_time))\n",
    "ties_vec = pd.Series(len(game_time))\n",
    "fouls_vec = pd.Series(len(game_time))\n",
    "fouls_opp_vec = pd.Series(len(game_time))\n",
    "\n",
    "for time in game_time:\n",
    "    wins = 0\n",
    "    ties = 0\n",
    "\n",
    "    raps_total_fouls = 0\n",
    "    bucks_total_fouls = 0\n",
    "\n",
    "    for i in seeds:\n",
    "        raps = Team(\"Raps\", score = 90, freethrow_percentage=0.804,twopoint_percentage=0.539,threepoint_percentage=0.366,tov_percentage=0.15)\n",
    "        bucks = Team(\"Bucks\", score = 93, freethrow_percentage=0.773,twopoint_percentage=0.565,threepoint_percentage=0.353,tov_percentage=0.15)\n",
    "\n",
    "        raps_score, bucks_score, raps_fouls, bucks_fouls = simulate_game_2(raps, bucks, game_clock = time, hack_strat = False, seed = i)\n",
    "\n",
    "        raps_total_fouls += raps_fouls\n",
    "        bucks_total_fouls += bucks_fouls\n",
    "\n",
    "        if raps_score > bucks_score:\n",
    "            wins += 1\n",
    "\n",
    "        if raps_score == bucks_score:\n",
    "            ties += 1\n",
    "\n",
    "    raps_avg_fouls = raps_total_fouls / iterations\n",
    "    bucks_avg_fouls = bucks_total_fouls / iterations\n",
    "\n",
    "    wins_vec[time] = wins\n",
    "    ties_vec[time] = ties\n",
    "    fouls_vec[time] = raps_avg_fouls\n",
    "    fouls_opp_vec[time] = bucks_avg_fouls\n",
    "\n",
    "normal_strat = pd.DataFrame({\"Simulated Game Time\" : game_time, \"Wins\" : wins_vec, \"Ties\" : ties_vec, \"Avg Fouls\" : fouls_vec}).set_index('Simulated Game Time')\n",
    "# normal_strat"
   ]
  },
  {
   "cell_type": "code",
   "execution_count": 23,
   "metadata": {},
   "outputs": [
    {
     "data": {
      "text/plain": [
       "Text(0.5, 1.0, '10,000 Simulated Games - Normal Strategy')"
      ]
     },
     "execution_count": 23,
     "metadata": {},
     "output_type": "execute_result"
    },
    {
     "data": {
      "image/png": "[encoded data removed]",
      "text/plain": [
       "<Figure size 640x480 with 1 Axes>"
      ]
     },
     "metadata": {},
     "output_type": "display_data"
    }
   ],
   "source": [
    "normal_strat.loc[:,('Wins','Ties')].plot.bar()\n",
    "plt.xticks(np.arange(0, len(game_time),6))\n",
    "plt.yticks(np.arange(0,2600,500))\n",
    "plt.legend(loc = 2)\n",
    "plt.title('10,000 Simulated Games - Normal Strategy')"
   ]
  },
  {
   "cell_type": "code",
   "execution_count": 24,
   "metadata": {},
   "outputs": [],
   "source": [
    "wins_vec = pd.Series(len(game_time))\n",
    "ties_vec = pd.Series(len(game_time))\n",
    "fouls_vec = pd.Series(len(game_time))\n",
    "fouls_opp_vec = pd.Series(len(game_time))\n",
    "\n",
    "for time in game_time:\n",
    "    wins = 0\n",
    "    ties = 0\n",
    "\n",
    "    raps_total_fouls = 0\n",
    "    bucks_total_fouls = 0\n",
    "\n",
    "    for i in seeds:\n",
    "        raps = Team(\"Raps\", score = 90, freethrow_percentage=0.804,twopoint_percentage=0.539,threepoint_percentage=0.366,tov_percentage=0.15)\n",
    "        bucks = Team(\"Bucks\", score = 93, freethrow_percentage=0.773,twopoint_percentage=0.565,threepoint_percentage=0.353,tov_percentage=0.15)\n",
    "\n",
    "        raps_score, bucks_score, raps_fouls, bucks_fouls = simulate_game_2(raps, bucks, game_clock = time, seed = i)\n",
    "\n",
    "        raps_total_fouls += raps_fouls\n",
    "        bucks_total_fouls += bucks_fouls\n",
    "\n",
    "        if raps_score > bucks_score:\n",
    "            wins += 1\n",
    "\n",
    "        if raps_score == bucks_score:\n",
    "            ties += 1\n",
    "\n",
    "    raps_avg_fouls = raps_total_fouls / iterations\n",
    "    bucks_avg_fouls = bucks_total_fouls / iterations\n",
    "    \n",
    "    wins_vec[time] = wins\n",
    "    ties_vec[time] = ties\n",
    "    fouls_vec[time] = raps_avg_fouls\n",
    "    fouls_opp_vec[time] = bucks_avg_fouls\n",
    "\n",
    "hack_strat = pd.DataFrame({\"Simulated Game Time\" : game_time, \"Wins\" : wins_vec, \"Ties\" : ties_vec, \"Avg Fouls\" : fouls_vec}).set_index('Simulated Game Time')\n",
    "# hack_strat"
   ]
  },
  {
   "cell_type": "code",
   "execution_count": 25,
   "metadata": {},
   "outputs": [
    {
     "data": {
      "text/plain": [
       "Text(0.5, 1.0, '10,000 Simulated Games - Hack Strategy')"
      ]
     },
     "execution_count": 25,
     "metadata": {},
     "output_type": "execute_result"
    },
    {
     "data": {
      "image/png": "[encoded data removed]",
      "text/plain": [
       "<Figure size 640x480 with 1 Axes>"
      ]
     },
     "metadata": {},
     "output_type": "display_data"
    }
   ],
   "source": [
    "hack_strat.loc[:,('Wins','Ties')].plot.bar()\n",
    "plt.xticks(np.arange(0, len(game_time),6))\n",
    "plt.yticks(np.arange(0,2600,500))\n",
    "plt.legend(loc = 2)\n",
    "plt.title('10,000 Simulated Games - Hack Strategy')"
   ]
  },
  {
   "cell_type": "code",
   "execution_count": 26,
   "metadata": {},
   "outputs": [
    {
     "data": {
      "text/plain": [
       "([<matplotlib.axis.XTick at 0x1ebb66af150>,\n",
       "  <matplotlib.axis.XTick at 0x1ebb66af190>,\n",
       "  <matplotlib.axis.XTick at 0x1ebb66c3ed0>,\n",
       "  <matplotlib.axis.XTick at 0x1ebb66e8550>,\n",
       "  <matplotlib.axis.XTick at 0x1ebb66ea890>,\n",
       "  <matplotlib.axis.XTick at 0x1ebb66ebe90>,\n",
       "  <matplotlib.axis.XTick at 0x1ebb6742110>,\n",
       "  <matplotlib.axis.XTick at 0x1ebb669ccd0>],\n",
       " [Text(0, 0, '0'),\n",
       "  Text(6, 0, '30'),\n",
       "  Text(12, 0, '60'),\n",
       "  Text(18, 0, '90'),\n",
       "  Text(24, 0, '120'),\n",
       "  Text(30, 0, '150'),\n",
       "  Text(36, 0, '180'),\n",
       "  Text(42, 0, '210')])"
      ]
     },
     "execution_count": 26,
     "metadata": {},
     "output_type": "execute_result"
    },
    {
     "data": {
      "image/png": "[encoded data removed]",
      "text/plain": [
       "<Figure size 640x480 with 1 Axes>"
      ]
     },
     "metadata": {},
     "output_type": "display_data"
    }
   ],
   "source": [
    "hack_strat.loc[:,('Avg Fouls')].plot.bar()\n",
    "plt.xticks(np.arange(0, len(game_time),6))"
   ]
  },
  {
   "cell_type": "code",
   "execution_count": 27,
   "metadata": {},
   "outputs": [
    {
     "data": {
      "text/plain": [
       "Text(0.5, 1.0, 'Added Wins & Ties - Hack Strategy')"
      ]
     },
     "execution_count": 27,
     "metadata": {},
     "output_type": "execute_result"
    },
    {
     "data": {
      "image/png": "[encoded data removed]",
      "text/plain": [
       "<Figure size 640x480 with 1 Axes>"
      ]
     },
     "metadata": {},
     "output_type": "display_data"
    }
   ],
   "source": [
    "hack_strat.loc[:,('Wins','Ties')].subtract(normal_strat.loc[:,('Wins','Ties')]).plot.bar()\n",
    "plt.xticks(np.arange(0, len(game_time),6))\n",
    "plt.title('Added Wins & Ties - Hack Strategy')"
   ]
  },
  {
   "cell_type": "markdown",
   "metadata": {},
   "source": [
    "We don't see a definitive benefit of intentionally fouling. It leads to more ties but this number is offset by the amount of wins lost when intentionally fouling."
   ]
  },
  {
   "cell_type": "markdown",
   "metadata": {},
   "source": [
    "Foul immediately or worst shooter?"
   ]
  },
  {
   "cell_type": "code",
   "execution_count": 28,
   "metadata": {},
   "outputs": [
    {
     "name": "stderr",
     "output_type": "stream",
     "text": [
      "C:\\Users\\j_chr\\AppData\\Local\\Temp\\ipykernel_11136\\2425777624.py:37: FutureWarning: Setting an item of incompatible dtype is deprecated and will raise in a future error of pandas. Value '4.9961' has dtype incompatible with int64, please explicitly cast to a compatible dtype first.\n",
      "  fouls_vec[time] = raps_avg_fouls\n",
      "C:\\Users\\j_chr\\AppData\\Local\\Temp\\ipykernel_11136\\2425777624.py:38: FutureWarning: Setting an item of incompatible dtype is deprecated and will raise in a future error of pandas. Value '0.9176' has dtype incompatible with int64, please explicitly cast to a compatible dtype first.\n",
      "  fouls_opp_vec[time] = bucks_avg_fouls\n"
     ]
    }
   ],
   "source": [
    "extra_time = np.arange(0,9) # extra seconds for the ball to find Giannis\n",
    "wins_vec = pd.Series(len(extra_time))\n",
    "ties_vec = pd.Series(len(extra_time))\n",
    "fouls_vec = pd.Series(len(extra_time))\n",
    "fouls_opp_vec = pd.Series(len(extra_time))\n",
    "\n",
    "\n",
    "for time in extra_time:\n",
    "    wins = 0\n",
    "    ties = 0\n",
    "\n",
    "    raps_total_fouls = 0\n",
    "    bucks_total_fouls = 0\n",
    "\n",
    "    for i in seeds:\n",
    "        raps = Team(\"Raps\", score = 90, freethrow_percentage=0.804,twopoint_percentage=0.539,threepoint_percentage=0.366,tov_percentage=0.15)\n",
    "        bucks = Team(\"Bucks\", score = 93, freethrow_percentage=0.729,twopoint_percentage=0.565,threepoint_percentage=0.353,tov_percentage=0.15) # ft change to just Gianiss'\n",
    "        # bucks = Team(\"Bucks\", score = 93, freethrow_percentage=0.773,twopoint_percentage=0.565,threepoint_percentage=0.353,tov_percentage=0.15)\n",
    "\n",
    "        raps_score, bucks_score, raps_fouls, bucks_fouls = simulate_game_2(raps, bucks, extra_seconds_foul = time, seed = i)\n",
    "        # raps_score, bucks_score, raps_fouls, bucks_fouls = simulate_game_2(raps, bucks, extra_seconds_foul = 0, seed = i)\n",
    "\n",
    "        raps_total_fouls += raps_fouls\n",
    "        bucks_total_fouls += bucks_fouls\n",
    " \n",
    "        if raps_score > bucks_score:\n",
    "            wins += 1\n",
    "\n",
    "        if raps_score == bucks_score:\n",
    "            ties += 1\n",
    "\n",
    "    raps_avg_fouls = raps_total_fouls / iterations\n",
    "    bucks_avg_fouls = bucks_total_fouls / iterations\n",
    "\n",
    "    wins_vec[time] = wins\n",
    "    ties_vec[time] = ties\n",
    "    fouls_vec[time] = raps_avg_fouls\n",
    "    fouls_opp_vec[time] = bucks_avg_fouls\n",
    "\n",
    "giannis = pd.DataFrame({\"Extra Seconds to foul\" : extra_time, \"Wins\" : wins_vec, \"Ties\" : ties_vec, \"Avg Fouls\" : fouls_vec}).set_index('Extra Seconds to foul')\n",
    "# giannis"
   ]
  },
  {
   "cell_type": "code",
   "execution_count": 29,
   "metadata": {},
   "outputs": [
    {
     "data": {
      "text/plain": [
       "Text(0.5, 1.0, '10,000 Simulated Games - Foul Giannis')"
      ]
     },
     "execution_count": 29,
     "metadata": {},
     "output_type": "execute_result"
    },
    {
     "data": {
      "image/png": "[encoded data removed]",
      "text/plain": [
       "<Figure size 640x480 with 1 Axes>"
      ]
     },
     "metadata": {},
     "output_type": "display_data"
    }
   ],
   "source": [
    "giannis.loc[:,('Wins','Ties')].plot.bar()\n",
    "plt.xticks(np.arange(0, len(extra_time)))\n",
    "plt.axhline(y = 1439, color = 'r', linestyle = '-', label = \"Foul whoever first\")\n",
    "plt.legend()\n",
    "plt.title('10,000 Simulated Games - Foul Giannis')"
   ]
  },
  {
   "cell_type": "markdown",
   "metadata": {},
   "source": [
    "If the ball is not in Giannis' hands after four extra seconds, foul who ever"
   ]
  },
  {
   "cell_type": "markdown",
   "metadata": {},
   "source": [
    "Let's see if different teams have different results:"
   ]
  },
  {
   "cell_type": "code",
   "execution_count": 30,
   "metadata": {},
   "outputs": [],
   "source": [
    "game_time = np.arange(0,2*60,5)"
   ]
  },
  {
   "cell_type": "code",
   "execution_count": 31,
   "metadata": {},
   "outputs": [],
   "source": [
    "wins_vec = pd.Series(len(game_time))\n",
    "ties_vec = pd.Series(len(game_time))\n",
    "fouls_vec = pd.Series(len(game_time))\n",
    "fouls_opp_vec = pd.Series(len(game_time))\n",
    "\n",
    "for time in game_time:\n",
    "    wins = 0\n",
    "    ties = 0\n",
    "\n",
    "    purdue_total_fouls = 0\n",
    "    uconn_total_fouls = 0\n",
    "\n",
    "    for i in seeds:\n",
    "        # The shot % below for each team is from the official NCAA website\n",
    "        purdue = Team(\"Purdue\", score = 90, freethrow_percentage=0.721,twopoint_percentage=0.4031,threepoint_percentage=0.408,tov_percentage=0.15)\n",
    "        uconn = Team(\"Uconn\", score = 93, freethrow_percentage=0.742,twopoint_percentage=0.5852,threepoint_percentage=0.367,tov_percentage=0.15)\n",
    "\n",
    "        purdue_score, uconn_score, purdue_fouls, uconn_fouls = simulate_game_2(purdue, uconn, game_clock = time, hack_strat = False, seed = i)\n",
    "\n",
    "        purdue_total_fouls += purdue_fouls\n",
    "        uconn_total_fouls += uconn_fouls\n",
    "\n",
    "        if purdue_score > uconn_score:\n",
    "            wins += 1\n",
    "\n",
    "        if purdue_score == uconn_score:\n",
    "            ties += 1\n",
    "\n",
    "    purdue_avg_fouls = purdue_total_fouls / iterations\n",
    "    uconn_avg_fouls = uconn_total_fouls / iterations\n",
    "\n",
    "    wins_vec[time] = wins\n",
    "    ties_vec[time] = ties\n",
    "    fouls_vec[time] = purdue_avg_fouls\n",
    "    fouls_opp_vec[time] = uconn_avg_fouls\n",
    "\n",
    "purdue_normal = pd.DataFrame({\"Simulated Game Time\" : game_time, \"Wins\" : wins_vec, \"Ties\" : ties_vec, \"Avg Fouls\" : fouls_vec}).set_index('Simulated Game Time')"
   ]
  },
  {
   "cell_type": "code",
   "execution_count": 32,
   "metadata": {},
   "outputs": [],
   "source": [
    "wins_vec = pd.Series(len(game_time))\n",
    "ties_vec = pd.Series(len(game_time))\n",
    "fouls_vec = pd.Series(len(game_time))\n",
    "fouls_opp_vec = pd.Series(len(game_time))\n",
    "\n",
    "for time in game_time:\n",
    "    wins = 0\n",
    "    ties = 0\n",
    "\n",
    "    purdue_total_fouls = 0\n",
    "    uconn_total_fouls = 0\n",
    "\n",
    "    for i in seeds:\n",
    "        purdue = Team(\"Purdue\", score = 90, freethrow_percentage=0.721,twopoint_percentage=0.4031,threepoint_percentage=0.408,tov_percentage=0.15)\n",
    "        uconn = Team(\"Uconn\", score = 93, freethrow_percentage=0.742,twopoint_percentage=0.5852,threepoint_percentage=0.367,tov_percentage=0.15)\n",
    "\n",
    "        purdue_score, uconn_score, purdue_fouls, uconn_fouls = simulate_game_2(purdue, uconn, game_clock = time, seed = i)\n",
    "\n",
    "        purdue_total_fouls += purdue_fouls\n",
    "        uconn_total_fouls += uconn_fouls\n",
    "\n",
    "        if purdue_score > uconn_score:\n",
    "            wins += 1\n",
    "\n",
    "        if purdue_score == uconn_score:\n",
    "            ties += 1\n",
    "\n",
    "    purdue_avg_fouls = purdue_total_fouls / iterations\n",
    "    uconn_avg_fouls = uconn_total_fouls / iterations\n",
    "\n",
    "    wins_vec[time] = wins\n",
    "    ties_vec[time] = ties\n",
    "    fouls_vec[time] = purdue_avg_fouls\n",
    "    fouls_opp_vec[time] = uconn_avg_fouls\n",
    "\n",
    "purdue_hack = pd.DataFrame({\"Simulated Game Time\" : game_time, \"Wins\" : wins_vec, \"Ties\" : ties_vec, \"Avg Fouls\" : fouls_vec}).set_index('Simulated Game Time')\n"
   ]
  },
  {
   "cell_type": "code",
   "execution_count": 33,
   "metadata": {},
   "outputs": [
    {
     "data": {
      "text/plain": [
       "Text(0.5, 1.0, 'Added Wins & Ties - Hack Strategy - Purdue v Uconn')"
      ]
     },
     "execution_count": 33,
     "metadata": {},
     "output_type": "execute_result"
    },
    {
     "data": {
      "image/png": "[encoded data removed]",
      "text/plain": [
       "<Figure size 640x480 with 1 Axes>"
      ]
     },
     "metadata": {},
     "output_type": "display_data"
    }
   ],
   "source": [
    "purdue_hack.loc[:,('Wins','Ties')].subtract(purdue_normal.loc[:,('Wins','Ties')]).plot.bar()\n",
    "plt.xticks(np.arange(0, len(game_time),3))\n",
    "plt.title('Added Wins & Ties - Hack Strategy - Purdue v Uconn')"
   ]
  }
 ],
 "metadata": {
  "kernelspec": {
   "display_name": "Python 3",
   "language": "python",
   "name": "python3"
  },
  "language_info": {
   "codemirror_mode": {
    "name": "ipython",
    "version": 3
   },
   "file_extension": ".py",
   "mimetype": "text/x-python",
   "name": "python",
   "nbconvert_exporter": "python",
   "pygments_lexer": "ipython3",
   "version": "3.11.2"
  }
 },
 "nbformat": 4,
 "nbformat_minor": 2
}
